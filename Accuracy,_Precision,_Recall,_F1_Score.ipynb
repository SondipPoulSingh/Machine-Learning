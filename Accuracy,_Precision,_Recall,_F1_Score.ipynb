{
  "nbformat": 4,
  "nbformat_minor": 0,
  "metadata": {
    "colab": {
      "provenance": [],
      "mount_file_id": "1Iw8w8GDrKeX2eHCblADiiLYScfgidUK0",
      "authorship_tag": "ABX9TyMYUCJ21U4VND1TCz44iXF7",
      "include_colab_link": true
    },
    "kernelspec": {
      "name": "python3",
      "display_name": "Python 3"
    },
    "language_info": {
      "name": "python"
    }
  },
  "cells": [
    {
      "cell_type": "markdown",
      "metadata": {
        "id": "view-in-github",
        "colab_type": "text"
      },
      "source": [
        "<a href=\"https://colab.research.google.com/github/SondipPoulSingh/Machine-Learning/blob/main/Accuracy%2C_Precision%2C_Recall%2C_F1_Score.ipynb\" target=\"_parent\"><img src=\"https://colab.research.google.com/assets/colab-badge.svg\" alt=\"Open In Colab\"/></a>"
      ]
    },
    {
      "cell_type": "code",
      "execution_count": 1,
      "metadata": {
        "id": "s1Lf1GLMXVwq"
      },
      "outputs": [],
      "source": [
        "import pandas as pd"
      ]
    },
    {
      "cell_type": "code",
      "source": [
        "df = pd.read_csv('/content/drive/MyDrive/Colab Notebooks/Datasets/diabetes.csv')\n",
        "df.head()"
      ],
      "metadata": {
        "colab": {
          "base_uri": "https://localhost:8080/",
          "height": 206
        },
        "id": "Xb1pyjBPYHjL",
        "outputId": "054ff077-cd50-4cfd-d104-3553acc55083"
      },
      "execution_count": 2,
      "outputs": [
        {
          "output_type": "execute_result",
          "data": {
            "text/plain": [
              "   Pregnancies  Glucose  BloodPressure  SkinThickness  Insulin   BMI  \\\n",
              "0            6      148             72             35        0  33.6   \n",
              "1            1       85             66             29        0  26.6   \n",
              "2            8      183             64              0        0  23.3   \n",
              "3            1       89             66             23       94  28.1   \n",
              "4            0      137             40             35      168  43.1   \n",
              "\n",
              "   DiabetesPedigreeFunction  Age  Outcome  \n",
              "0                     0.627   50        1  \n",
              "1                     0.351   31        0  \n",
              "2                     0.672   32        1  \n",
              "3                     0.167   21        0  \n",
              "4                     2.288   33        1  "
            ],
            "text/html": [
              "\n",
              "  <div id=\"df-d064a6df-8693-4fda-b868-0bba0290b35c\">\n",
              "    <div class=\"colab-df-container\">\n",
              "      <div>\n",
              "<style scoped>\n",
              "    .dataframe tbody tr th:only-of-type {\n",
              "        vertical-align: middle;\n",
              "    }\n",
              "\n",
              "    .dataframe tbody tr th {\n",
              "        vertical-align: top;\n",
              "    }\n",
              "\n",
              "    .dataframe thead th {\n",
              "        text-align: right;\n",
              "    }\n",
              "</style>\n",
              "<table border=\"1\" class=\"dataframe\">\n",
              "  <thead>\n",
              "    <tr style=\"text-align: right;\">\n",
              "      <th></th>\n",
              "      <th>Pregnancies</th>\n",
              "      <th>Glucose</th>\n",
              "      <th>BloodPressure</th>\n",
              "      <th>SkinThickness</th>\n",
              "      <th>Insulin</th>\n",
              "      <th>BMI</th>\n",
              "      <th>DiabetesPedigreeFunction</th>\n",
              "      <th>Age</th>\n",
              "      <th>Outcome</th>\n",
              "    </tr>\n",
              "  </thead>\n",
              "  <tbody>\n",
              "    <tr>\n",
              "      <th>0</th>\n",
              "      <td>6</td>\n",
              "      <td>148</td>\n",
              "      <td>72</td>\n",
              "      <td>35</td>\n",
              "      <td>0</td>\n",
              "      <td>33.6</td>\n",
              "      <td>0.627</td>\n",
              "      <td>50</td>\n",
              "      <td>1</td>\n",
              "    </tr>\n",
              "    <tr>\n",
              "      <th>1</th>\n",
              "      <td>1</td>\n",
              "      <td>85</td>\n",
              "      <td>66</td>\n",
              "      <td>29</td>\n",
              "      <td>0</td>\n",
              "      <td>26.6</td>\n",
              "      <td>0.351</td>\n",
              "      <td>31</td>\n",
              "      <td>0</td>\n",
              "    </tr>\n",
              "    <tr>\n",
              "      <th>2</th>\n",
              "      <td>8</td>\n",
              "      <td>183</td>\n",
              "      <td>64</td>\n",
              "      <td>0</td>\n",
              "      <td>0</td>\n",
              "      <td>23.3</td>\n",
              "      <td>0.672</td>\n",
              "      <td>32</td>\n",
              "      <td>1</td>\n",
              "    </tr>\n",
              "    <tr>\n",
              "      <th>3</th>\n",
              "      <td>1</td>\n",
              "      <td>89</td>\n",
              "      <td>66</td>\n",
              "      <td>23</td>\n",
              "      <td>94</td>\n",
              "      <td>28.1</td>\n",
              "      <td>0.167</td>\n",
              "      <td>21</td>\n",
              "      <td>0</td>\n",
              "    </tr>\n",
              "    <tr>\n",
              "      <th>4</th>\n",
              "      <td>0</td>\n",
              "      <td>137</td>\n",
              "      <td>40</td>\n",
              "      <td>35</td>\n",
              "      <td>168</td>\n",
              "      <td>43.1</td>\n",
              "      <td>2.288</td>\n",
              "      <td>33</td>\n",
              "      <td>1</td>\n",
              "    </tr>\n",
              "  </tbody>\n",
              "</table>\n",
              "</div>\n",
              "      <button class=\"colab-df-convert\" onclick=\"convertToInteractive('df-d064a6df-8693-4fda-b868-0bba0290b35c')\"\n",
              "              title=\"Convert this dataframe to an interactive table.\"\n",
              "              style=\"display:none;\">\n",
              "        \n",
              "  <svg xmlns=\"http://www.w3.org/2000/svg\" height=\"24px\"viewBox=\"0 0 24 24\"\n",
              "       width=\"24px\">\n",
              "    <path d=\"M0 0h24v24H0V0z\" fill=\"none\"/>\n",
              "    <path d=\"M18.56 5.44l.94 2.06.94-2.06 2.06-.94-2.06-.94-.94-2.06-.94 2.06-2.06.94zm-11 1L8.5 8.5l.94-2.06 2.06-.94-2.06-.94L8.5 2.5l-.94 2.06-2.06.94zm10 10l.94 2.06.94-2.06 2.06-.94-2.06-.94-.94-2.06-.94 2.06-2.06.94z\"/><path d=\"M17.41 7.96l-1.37-1.37c-.4-.4-.92-.59-1.43-.59-.52 0-1.04.2-1.43.59L10.3 9.45l-7.72 7.72c-.78.78-.78 2.05 0 2.83L4 21.41c.39.39.9.59 1.41.59.51 0 1.02-.2 1.41-.59l7.78-7.78 2.81-2.81c.8-.78.8-2.07 0-2.86zM5.41 20L4 18.59l7.72-7.72 1.47 1.35L5.41 20z\"/>\n",
              "  </svg>\n",
              "      </button>\n",
              "      \n",
              "  <style>\n",
              "    .colab-df-container {\n",
              "      display:flex;\n",
              "      flex-wrap:wrap;\n",
              "      gap: 12px;\n",
              "    }\n",
              "\n",
              "    .colab-df-convert {\n",
              "      background-color: #E8F0FE;\n",
              "      border: none;\n",
              "      border-radius: 50%;\n",
              "      cursor: pointer;\n",
              "      display: none;\n",
              "      fill: #1967D2;\n",
              "      height: 32px;\n",
              "      padding: 0 0 0 0;\n",
              "      width: 32px;\n",
              "    }\n",
              "\n",
              "    .colab-df-convert:hover {\n",
              "      background-color: #E2EBFA;\n",
              "      box-shadow: 0px 1px 2px rgba(60, 64, 67, 0.3), 0px 1px 3px 1px rgba(60, 64, 67, 0.15);\n",
              "      fill: #174EA6;\n",
              "    }\n",
              "\n",
              "    [theme=dark] .colab-df-convert {\n",
              "      background-color: #3B4455;\n",
              "      fill: #D2E3FC;\n",
              "    }\n",
              "\n",
              "    [theme=dark] .colab-df-convert:hover {\n",
              "      background-color: #434B5C;\n",
              "      box-shadow: 0px 1px 3px 1px rgba(0, 0, 0, 0.15);\n",
              "      filter: drop-shadow(0px 1px 2px rgba(0, 0, 0, 0.3));\n",
              "      fill: #FFFFFF;\n",
              "    }\n",
              "  </style>\n",
              "\n",
              "      <script>\n",
              "        const buttonEl =\n",
              "          document.querySelector('#df-d064a6df-8693-4fda-b868-0bba0290b35c button.colab-df-convert');\n",
              "        buttonEl.style.display =\n",
              "          google.colab.kernel.accessAllowed ? 'block' : 'none';\n",
              "\n",
              "        async function convertToInteractive(key) {\n",
              "          const element = document.querySelector('#df-d064a6df-8693-4fda-b868-0bba0290b35c');\n",
              "          const dataTable =\n",
              "            await google.colab.kernel.invokeFunction('convertToInteractive',\n",
              "                                                     [key], {});\n",
              "          if (!dataTable) return;\n",
              "\n",
              "          const docLinkHtml = 'Like what you see? Visit the ' +\n",
              "            '<a target=\"_blank\" href=https://colab.research.google.com/notebooks/data_table.ipynb>data table notebook</a>'\n",
              "            + ' to learn more about interactive tables.';\n",
              "          element.innerHTML = '';\n",
              "          dataTable['output_type'] = 'display_data';\n",
              "          await google.colab.output.renderOutput(dataTable, element);\n",
              "          const docLink = document.createElement('div');\n",
              "          docLink.innerHTML = docLinkHtml;\n",
              "          element.appendChild(docLink);\n",
              "        }\n",
              "      </script>\n",
              "    </div>\n",
              "  </div>\n",
              "  "
            ]
          },
          "metadata": {},
          "execution_count": 2
        }
      ]
    },
    {
      "cell_type": "code",
      "source": [
        "print(df.shape) #(768,9)\n",
        "print(df.isnull().sum())"
      ],
      "metadata": {
        "id": "trgSmJKpZG7G"
      },
      "execution_count": null,
      "outputs": []
    },
    {
      "cell_type": "code",
      "source": [
        "X = df.loc[:,'Pregnancies':'Age']\n",
        "y = df.loc[:,'Outcome']"
      ],
      "metadata": {
        "id": "NF2ndsoFZRrL"
      },
      "execution_count": 10,
      "outputs": []
    },
    {
      "cell_type": "code",
      "source": [
        "from sklearn.model_selection import train_test_split"
      ],
      "metadata": {
        "id": "3HdmdDzEZwM9"
      },
      "execution_count": 11,
      "outputs": []
    },
    {
      "cell_type": "code",
      "source": [
        "X_train, X_test, y_train, y_test = train_test_split(X,y, test_size=0.2,\n",
        "                                                    random_state=83)"
      ],
      "metadata": {
        "id": "Bws0bzs4aVEB"
      },
      "execution_count": 61,
      "outputs": []
    },
    {
      "cell_type": "code",
      "source": [
        "X_train.shape, X_test.shape"
      ],
      "metadata": {
        "colab": {
          "base_uri": "https://localhost:8080/"
        },
        "id": "kE82CtZhahKC",
        "outputId": "ecc5b19e-6762-45ed-848c-eb4537fdb713"
      },
      "execution_count": 62,
      "outputs": [
        {
          "output_type": "execute_result",
          "data": {
            "text/plain": [
              "((614, 8), (154, 8))"
            ]
          },
          "metadata": {},
          "execution_count": 62
        }
      ]
    },
    {
      "cell_type": "code",
      "source": [
        "from sklearn.preprocessing import StandardScaler"
      ],
      "metadata": {
        "id": "yF1BcBH6fxbI"
      },
      "execution_count": 63,
      "outputs": []
    },
    {
      "cell_type": "code",
      "source": [
        "sc = StandardScaler()\n",
        "X_train = sc.fit_transform(X_train)\n",
        "X_test = sc.transform(X_test)"
      ],
      "metadata": {
        "id": "Cf2pi964f_7d"
      },
      "execution_count": 64,
      "outputs": []
    },
    {
      "cell_type": "code",
      "source": [
        "from sklearn.linear_model import LogisticRegression\n",
        "from sklearn.ensemble import RandomForestClassifier\n",
        "from sklearn.svm import SVC"
      ],
      "metadata": {
        "id": "HFsyLbftakQR"
      },
      "execution_count": 65,
      "outputs": []
    },
    {
      "cell_type": "code",
      "source": [
        "lr = LogisticRegression(max_iter=1000) # https://stackoverflow.com/questions/62658215/convergencewarning-lbfgs-failed-to-converge-status-1-stop-total-no-of-iter\n",
        "rf = RandomForestClassifier()\n",
        "sv = SVC()"
      ],
      "metadata": {
        "id": "sBCiJ6A4a_SA"
      },
      "execution_count": 66,
      "outputs": []
    },
    {
      "cell_type": "code",
      "source": [
        "from sklearn.metrics import accuracy_score"
      ],
      "metadata": {
        "id": "LJfzTlmse9M3"
      },
      "execution_count": 67,
      "outputs": []
    },
    {
      "cell_type": "code",
      "source": [
        "classifier=[lr,rf,sv]\n",
        "names=['lr','rf','svm']\n",
        "predictions={}\n",
        "accuracy={}\n",
        "i=0\n",
        "for clf in classifier:\n",
        "  clf.fit(X_train, y_train)\n",
        "  predictions[names[i]]=clf.predict(X_test)\n",
        "  accuracy[names[i]]=accuracy_score(y_test,predictions[names[i]])\n",
        "  i+=1"
      ],
      "metadata": {
        "id": "PdLvr07wbFai"
      },
      "execution_count": 69,
      "outputs": []
    },
    {
      "cell_type": "code",
      "source": [
        "print(predictions)\n",
        "print(accuracy)"
      ],
      "metadata": {
        "colab": {
          "base_uri": "https://localhost:8080/"
        },
        "id": "ZayMDuBhczxE",
        "outputId": "f689e0ce-1028-4e46-927d-bec02f2ab000"
      },
      "execution_count": 97,
      "outputs": [
        {
          "output_type": "stream",
          "name": "stdout",
          "text": [
            "{'lr': array([0, 0, 0, 1, 1, 1, 1, 0, 0, 1, 0, 1, 0, 0, 1, 0, 0, 0, 0, 1, 0, 0,\n",
            "       1, 0, 0, 1, 1, 0, 0, 0, 0, 0, 0, 0, 0, 1, 1, 0, 0, 1, 0, 0, 0, 0,\n",
            "       0, 0, 0, 0, 1, 0, 0, 1, 0, 0, 0, 0, 0, 0, 0, 0, 0, 0, 0, 0, 0, 1,\n",
            "       0, 1, 0, 1, 0, 0, 0, 0, 0, 1, 0, 0, 0, 0, 0, 0, 0, 0, 0, 0, 0, 0,\n",
            "       0, 0, 1, 0, 1, 0, 0, 0, 0, 1, 1, 0, 1, 1, 1, 0, 1, 1, 0, 0, 1, 0,\n",
            "       0, 0, 1, 0, 0, 0, 0, 0, 0, 0, 0, 1, 1, 1, 0, 1, 0, 0, 0, 0, 1, 1,\n",
            "       0, 0, 0, 0, 0, 0, 1, 1, 0, 0, 0, 0, 0, 0, 1, 0, 1, 1, 0, 0, 0, 0]), 'rf': array([0, 0, 0, 0, 0, 1, 0, 0, 0, 1, 0, 1, 0, 0, 0, 0, 0, 0, 0, 1, 0, 0,\n",
            "       1, 0, 0, 1, 1, 0, 0, 1, 0, 0, 1, 0, 0, 0, 1, 0, 0, 0, 0, 0, 0, 0,\n",
            "       0, 1, 0, 0, 1, 1, 0, 1, 0, 0, 0, 0, 0, 0, 0, 0, 0, 0, 0, 1, 0, 1,\n",
            "       0, 1, 0, 1, 0, 0, 1, 0, 0, 1, 0, 0, 0, 0, 0, 0, 0, 0, 0, 0, 0, 0,\n",
            "       0, 0, 1, 0, 1, 1, 0, 0, 0, 1, 0, 0, 1, 1, 1, 0, 1, 1, 0, 0, 1, 0,\n",
            "       1, 0, 1, 0, 0, 0, 0, 0, 0, 0, 1, 1, 0, 1, 0, 1, 0, 0, 1, 0, 1, 0,\n",
            "       0, 0, 0, 0, 1, 0, 1, 1, 0, 0, 0, 0, 0, 0, 1, 0, 1, 1, 0, 0, 0, 0]), 'svm': array([0, 0, 1, 1, 0, 1, 0, 0, 0, 1, 0, 1, 0, 1, 0, 0, 0, 0, 0, 1, 0, 0,\n",
            "       1, 0, 0, 1, 1, 0, 0, 1, 0, 0, 0, 0, 0, 0, 1, 0, 0, 0, 0, 0, 0, 0,\n",
            "       0, 1, 0, 0, 0, 0, 0, 1, 0, 0, 1, 0, 0, 0, 0, 0, 0, 0, 0, 0, 0, 1,\n",
            "       0, 1, 0, 1, 0, 0, 0, 0, 0, 1, 0, 0, 0, 0, 0, 0, 0, 0, 0, 0, 0, 0,\n",
            "       0, 0, 1, 0, 1, 1, 0, 0, 0, 1, 0, 0, 1, 1, 1, 0, 0, 1, 0, 0, 1, 0,\n",
            "       1, 0, 1, 0, 0, 0, 0, 0, 0, 0, 1, 1, 0, 1, 0, 1, 0, 0, 1, 0, 1, 1,\n",
            "       0, 0, 0, 0, 0, 0, 1, 0, 0, 0, 0, 0, 0, 0, 1, 0, 1, 1, 0, 0, 0, 0])}\n",
            "{'lr': 0.8246753246753247, 'rf': 0.7597402597402597, 'svm': 0.7922077922077922}\n"
          ]
        }
      ]
    },
    {
      "cell_type": "code",
      "source": [
        "# as now we have the predictions we can find the confusion matrix.\n",
        "# confusion matrix shows which classification results the accuracy.\n",
        "# We can find the accuracy easily from the confusion matrix."
      ],
      "metadata": {
        "id": "gUfyO6AIhvt6"
      },
      "execution_count": 73,
      "outputs": []
    },
    {
      "cell_type": "code",
      "source": [
        "from sklearn.metrics import confusion_matrix\n",
        "from sklearn.metrics import precision_score, recall_score, f1_score"
      ],
      "metadata": {
        "id": "8RIUIrhmjC7-"
      },
      "execution_count": 92,
      "outputs": []
    },
    {
      "cell_type": "code",
      "source": [
        "for clf in predictions:\n",
        "  print(f'{clf}: \\n {confusion_matrix(y_test,predictions[clf])}','\\n')\n",
        "  print(f'Precision: {precision_score(y_test,predictions[clf])}','\\n')\n",
        "  print(f'Recall: {recall_score(y_test,predictions[clf])}','\\n')\n",
        "  print(f'F1 Score: {f1_score(y_test,predictions[clf])}','\\n')"
      ],
      "metadata": {
        "colab": {
          "base_uri": "https://localhost:8080/"
        },
        "id": "hJK7nGB8jF5O",
        "outputId": "97d5db60-ee7f-4e18-ef03-df71f73d6685"
      },
      "execution_count": 95,
      "outputs": [
        {
          "output_type": "stream",
          "name": "stdout",
          "text": [
            "lr: \n",
            " [[92  7]\n",
            " [20 35]] \n",
            "\n",
            "Precision: 0.8333333333333334 \n",
            "\n",
            "Recall: 0.6363636363636364 \n",
            "\n",
            "F1 Score: 0.7216494845360825 \n",
            "\n",
            "rf: \n",
            " [[86 13]\n",
            " [24 31]] \n",
            "\n",
            "Precision: 0.7045454545454546 \n",
            "\n",
            "Recall: 0.5636363636363636 \n",
            "\n",
            "F1 Score: 0.6262626262626263 \n",
            "\n",
            "svm: \n",
            " [[90  9]\n",
            " [23 32]] \n",
            "\n",
            "Precision: 0.7804878048780488 \n",
            "\n",
            "Recall: 0.5818181818181818 \n",
            "\n",
            "F1 Score: 0.6666666666666666 \n",
            "\n"
          ]
        }
      ]
    },
    {
      "cell_type": "markdown",
      "source": [
        "True positive and True Negatives are the classes that are correctly classified. <br>\n",
        "False positive means the model finds them positive but \n",
        "they are actually negative.<br> \n",
        "False negative means model finds them negative but they are actually positive."
      ],
      "metadata": {
        "id": "kmHrg1bEmwKu"
      }
    },
    {
      "cell_type": "markdown",
      "source": [
        "![image.png](data:image/png;base64,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)"
      ],
      "metadata": {
        "id": "Wu7ZklsKjSCI"
      }
    },
    {
      "cell_type": "markdown",
      "source": [
        "precision -> the proportion of predicted positive is actually positive<br>\n",
        "recall -> the proportion of of positives is correctly classified<br><br>\n",
        "precision and recall is important when models holds the same accuracy. <br><br>\n",
        "Depending on the requirement we want high recall or high precision.<br><br>\n",
        "F1 score finds the harmonic mean of precision and recall. It have a lower\n",
        "value when either precision or recall have low value. In a good model the \n",
        "F1 score is always high."
      ],
      "metadata": {
        "id": "vMp99oiFk5DL"
      }
    },
    {
      "cell_type": "markdown",
      "source": [
        "![image.png](data:image/png;base64,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)"
      ],
      "metadata": {
        "id": "sVLL-20Km_M0"
      }
    },
    {
      "cell_type": "code",
      "source": [
        "# a shortcut\n",
        "from sklearn.metrics import classification_report\n",
        "for clf in predictions:\n",
        "  print(f'{clf}: \\n {classification_report(y_test,predictions[clf])}','\\n')"
      ],
      "metadata": {
        "colab": {
          "base_uri": "https://localhost:8080/"
        },
        "id": "dVfSSOa4m_6a",
        "outputId": "d2e71ac6-a3e8-488d-9d93-278b3114e028"
      },
      "execution_count": 99,
      "outputs": [
        {
          "output_type": "stream",
          "name": "stdout",
          "text": [
            "lr: \n",
            "               precision    recall  f1-score   support\n",
            "\n",
            "           0       0.82      0.93      0.87        99\n",
            "           1       0.83      0.64      0.72        55\n",
            "\n",
            "    accuracy                           0.82       154\n",
            "   macro avg       0.83      0.78      0.80       154\n",
            "weighted avg       0.83      0.82      0.82       154\n",
            " \n",
            "\n",
            "rf: \n",
            "               precision    recall  f1-score   support\n",
            "\n",
            "           0       0.78      0.87      0.82        99\n",
            "           1       0.70      0.56      0.63        55\n",
            "\n",
            "    accuracy                           0.76       154\n",
            "   macro avg       0.74      0.72      0.72       154\n",
            "weighted avg       0.75      0.76      0.75       154\n",
            " \n",
            "\n",
            "svm: \n",
            "               precision    recall  f1-score   support\n",
            "\n",
            "           0       0.80      0.91      0.85        99\n",
            "           1       0.78      0.58      0.67        55\n",
            "\n",
            "    accuracy                           0.79       154\n",
            "   macro avg       0.79      0.75      0.76       154\n",
            "weighted avg       0.79      0.79      0.78       154\n",
            " \n",
            "\n"
          ]
        }
      ]
    },
    {
      "cell_type": "code",
      "source": [
        "# for multiclass classification precision,recall, and f1 score is calculate individually.\n",
        "# macro average finds the direct mean of precision,and recall.\n",
        "# as example for svm macro precision=(0.80+0.78)/2\n",
        "# Weighted avg are calculated using weighted mean values. weight=diabetes/have diabetes +have_no_diabetes\n",
        "# use macro when dataset is balanced, for imbalanced dataset use weighted avg.\n",
        "# Here support means how many data we have for any particular class."
      ],
      "metadata": {
        "id": "ylg5PHe8rsRW"
      },
      "execution_count": 100,
      "outputs": []
    },
    {
      "cell_type": "markdown",
      "source": [
        "### Iris_dataset_Example"
      ],
      "metadata": {
        "id": "T8756FDftHSU"
      }
    },
    {
      "cell_type": "code",
      "source": [
        "from sklearn import datasets "
      ],
      "metadata": {
        "id": "rvImjMJ0tPCo"
      },
      "execution_count": 101,
      "outputs": []
    },
    {
      "cell_type": "code",
      "source": [
        "iris = datasets.load_iris()\n",
        "X = iris.data\n",
        "y = iris.target #0,1,2"
      ],
      "metadata": {
        "id": "r-JlrvpItobg"
      },
      "execution_count": 103,
      "outputs": []
    },
    {
      "cell_type": "code",
      "source": [
        "print(X[0:5])\n",
        "print(y[0:5])"
      ],
      "metadata": {
        "colab": {
          "base_uri": "https://localhost:8080/"
        },
        "id": "od0bC34Ctz9B",
        "outputId": "f69d72c2-388e-4276-d0fb-17e2f8bb14ed"
      },
      "execution_count": 109,
      "outputs": [
        {
          "output_type": "stream",
          "name": "stdout",
          "text": [
            "[[5.1 3.5 1.4 0.2]\n",
            " [4.9 3.  1.4 0.2]\n",
            " [4.7 3.2 1.3 0.2]\n",
            " [4.6 3.1 1.5 0.2]\n",
            " [5.  3.6 1.4 0.2]]\n",
            "[0 0 0 0 0]\n"
          ]
        }
      ]
    },
    {
      "cell_type": "code",
      "source": [
        "iris['feature_names'], iris['target_names']"
      ],
      "metadata": {
        "colab": {
          "base_uri": "https://localhost:8080/"
        },
        "id": "mThbRdd4u-5L",
        "outputId": "5c6ce64f-56d3-4ee8-de76-380c0b30c85a"
      },
      "execution_count": 116,
      "outputs": [
        {
          "output_type": "execute_result",
          "data": {
            "text/plain": [
              "(['sepal length (cm)',\n",
              "  'sepal width (cm)',\n",
              "  'petal length (cm)',\n",
              "  'petal width (cm)'],\n",
              " array(['setosa', 'versicolor', 'virginica'], dtype='<U10'))"
            ]
          },
          "metadata": {},
          "execution_count": 116
        }
      ]
    },
    {
      "cell_type": "code",
      "source": [
        "X_train, X_test, y_train, y_test = train_test_split(X,y, test_size=0.2,\n",
        "                                                    random_state=83)"
      ],
      "metadata": {
        "id": "Tuk_N0Txt0Uk"
      },
      "execution_count": 110,
      "outputs": []
    },
    {
      "cell_type": "code",
      "source": [
        "sv = SVC()"
      ],
      "metadata": {
        "id": "yV4A9X44uzZN"
      },
      "execution_count": 117,
      "outputs": []
    },
    {
      "cell_type": "code",
      "source": [
        "sv.fit(X_train, y_train)"
      ],
      "metadata": {
        "colab": {
          "base_uri": "https://localhost:8080/"
        },
        "id": "53lay7b8vvF2",
        "outputId": "440d9c7f-0ad6-4eb4-f3dd-748565a3d9f1"
      },
      "execution_count": 118,
      "outputs": [
        {
          "output_type": "execute_result",
          "data": {
            "text/plain": [
              "SVC()"
            ]
          },
          "metadata": {},
          "execution_count": 118
        }
      ]
    },
    {
      "cell_type": "code",
      "source": [
        "y_pred = sv.predict(X_test)"
      ],
      "metadata": {
        "id": "pIIZCgXMwEtv"
      },
      "execution_count": 119,
      "outputs": []
    },
    {
      "cell_type": "code",
      "source": [
        "confusion_matrix(y_test,y_pred)"
      ],
      "metadata": {
        "colab": {
          "base_uri": "https://localhost:8080/"
        },
        "id": "S-kA7Oi1wIQH",
        "outputId": "3aff2bd6-7530-4501-8e29-4149815da6d6"
      },
      "execution_count": 120,
      "outputs": [
        {
          "output_type": "execute_result",
          "data": {
            "text/plain": [
              "array([[11,  0,  0],\n",
              "       [ 0,  8,  0],\n",
              "       [ 0,  3,  8]])"
            ]
          },
          "metadata": {},
          "execution_count": 120
        }
      ]
    },
    {
      "cell_type": "code",
      "source": [
        "print(classification_report(y_test,y_pred))"
      ],
      "metadata": {
        "colab": {
          "base_uri": "https://localhost:8080/"
        },
        "id": "GY5_G3eKwNyW",
        "outputId": "bfe52e2d-bb1f-4565-9f62-c1f081bf6ceb"
      },
      "execution_count": 122,
      "outputs": [
        {
          "output_type": "stream",
          "name": "stdout",
          "text": [
            "              precision    recall  f1-score   support\n",
            "\n",
            "           0       1.00      1.00      1.00        11\n",
            "           1       0.73      1.00      0.84         8\n",
            "           2       1.00      0.73      0.84        11\n",
            "\n",
            "    accuracy                           0.90        30\n",
            "   macro avg       0.91      0.91      0.89        30\n",
            "weighted avg       0.93      0.90      0.90        30\n",
            "\n"
          ]
        }
      ]
    },
    {
      "cell_type": "code",
      "source": [],
      "metadata": {
        "id": "u2pMOqaOwYMb"
      },
      "execution_count": null,
      "outputs": []
    }
  ]
}